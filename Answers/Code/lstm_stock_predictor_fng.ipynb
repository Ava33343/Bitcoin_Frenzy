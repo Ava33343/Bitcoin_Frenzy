{
 "cells": [
  {
   "cell_type": "markdown",
   "metadata": {},
   "source": [
    "# LSTM Stock Predictor Using Fear and Greed Index\n",
    "\n",
    "In this notebook, you will build and train a custom LSTM RNN that uses a 10 day window of Bitcoin fear and greed index values to predict the 11th day closing price. \n",
    "\n",
    "You will need to:\n",
    "\n",
    "1. Prepare the data for training and testing\n",
    "2. Build and train a custom LSTM RNN\n",
    "3. Evaluate the performance of the model"
   ]
  },
  {
   "cell_type": "markdown",
   "metadata": {},
   "source": [
    "## Data Preparation\n",
    "\n",
    "In this section, you will need to prepare the training and testing data for the model. The model will use a rolling 10 day window to predict the 11th day closing price.\n",
    "\n",
    "You will need to:\n",
    "1. Use the `window_data` function to generate the X and y values for the model.\n",
    "2. Split the data into 70% training and 30% testing\n",
    "3. Apply the MinMaxScaler to the X and y values\n",
    "4. Reshape the X_train and X_test data for the model. Note: The required input format for the LSTM is:\n",
    "\n",
    "```python\n",
    "reshape((X_train.shape[0], X_train.shape[1], 1))\n",
    "```"
   ]
  },
  {
   "cell_type": "code",
   "execution_count": 615,
   "metadata": {},
   "outputs": [],
   "source": [
    "import numpy as np\n",
    "import pandas as pd\n",
    "import hvplot.pandas\n",
    "\n",
    "%matplotlib inline"
   ]
  },
  {
   "cell_type": "code",
   "execution_count": 616,
   "metadata": {},
   "outputs": [],
   "source": [
    "# Set the random seed for reproducibility\n",
    "# Note: This is for the homework solution, but it is good practice to comment this out and run multiple experiments to evaluate your model\n",
    "from numpy.random import seed\n",
    "seed(1)\n",
    "from tensorflow import random\n",
    "random.set_seed(2)"
   ]
  },
  {
   "cell_type": "code",
   "execution_count": 617,
   "metadata": {},
   "outputs": [
    {
     "data": {
      "text/html": [
       "<div>\n",
       "<style scoped>\n",
       "    .dataframe tbody tr th:only-of-type {\n",
       "        vertical-align: middle;\n",
       "    }\n",
       "\n",
       "    .dataframe tbody tr th {\n",
       "        vertical-align: top;\n",
       "    }\n",
       "\n",
       "    .dataframe thead th {\n",
       "        text-align: right;\n",
       "    }\n",
       "</style>\n",
       "<table border=\"1\" class=\"dataframe\">\n",
       "  <thead>\n",
       "    <tr style=\"text-align: right;\">\n",
       "      <th></th>\n",
       "      <th>fng_value</th>\n",
       "    </tr>\n",
       "    <tr>\n",
       "      <th>date</th>\n",
       "      <th></th>\n",
       "    </tr>\n",
       "  </thead>\n",
       "  <tbody>\n",
       "    <tr>\n",
       "      <th>2019-07-29</th>\n",
       "      <td>19</td>\n",
       "    </tr>\n",
       "    <tr>\n",
       "      <th>2019-07-28</th>\n",
       "      <td>16</td>\n",
       "    </tr>\n",
       "    <tr>\n",
       "      <th>2019-07-27</th>\n",
       "      <td>47</td>\n",
       "    </tr>\n",
       "    <tr>\n",
       "      <th>2019-07-26</th>\n",
       "      <td>24</td>\n",
       "    </tr>\n",
       "    <tr>\n",
       "      <th>2019-07-25</th>\n",
       "      <td>42</td>\n",
       "    </tr>\n",
       "  </tbody>\n",
       "</table>\n",
       "</div>"
      ],
      "text/plain": [
       "             fng_value\n",
       "date                  \n",
       "2019-07-29          19\n",
       "2019-07-28          16\n",
       "2019-07-27          47\n",
       "2019-07-26          24\n",
       "2019-07-25          42"
      ]
     },
     "execution_count": 617,
     "metadata": {},
     "output_type": "execute_result"
    }
   ],
   "source": [
    "# Load the fear and greed sentiment data for Bitcoin\n",
    "df = pd.read_csv('../Data/btc_sentiment.csv', index_col=\"date\", infer_datetime_format=True, parse_dates=True)\n",
    "df = df.drop(columns=\"fng_classification\")\n",
    "df.head()"
   ]
  },
  {
   "cell_type": "code",
   "execution_count": 618,
   "metadata": {},
   "outputs": [
    {
     "data": {
      "text/plain": [
       "Date\n",
       "2019-07-25    9882.429688\n",
       "2019-07-26    9847.450195\n",
       "2019-07-27    9478.320313\n",
       "2019-07-28    9531.769531\n",
       "2019-07-29    9529.889648\n",
       "Name: Close, dtype: float64"
      ]
     },
     "execution_count": 618,
     "metadata": {},
     "output_type": "execute_result"
    }
   ],
   "source": [
    "# Load the historical closing prices for Bitcoin\n",
    "df2 = pd.read_csv('../Data/btc_historic.csv', index_col=\"Date\", infer_datetime_format=True, parse_dates=True)['Close']\n",
    "df2 = df2.sort_index()\n",
    "df2.tail()"
   ]
  },
  {
   "cell_type": "code",
   "execution_count": 619,
   "metadata": {},
   "outputs": [
    {
     "data": {
      "text/html": [
       "<div>\n",
       "<style scoped>\n",
       "    .dataframe tbody tr th:only-of-type {\n",
       "        vertical-align: middle;\n",
       "    }\n",
       "\n",
       "    .dataframe tbody tr th {\n",
       "        vertical-align: top;\n",
       "    }\n",
       "\n",
       "    .dataframe thead th {\n",
       "        text-align: right;\n",
       "    }\n",
       "</style>\n",
       "<table border=\"1\" class=\"dataframe\">\n",
       "  <thead>\n",
       "    <tr style=\"text-align: right;\">\n",
       "      <th></th>\n",
       "      <th>fng_value</th>\n",
       "      <th>Close</th>\n",
       "    </tr>\n",
       "  </thead>\n",
       "  <tbody>\n",
       "    <tr>\n",
       "      <th>2019-07-25</th>\n",
       "      <td>42</td>\n",
       "      <td>9882.429688</td>\n",
       "    </tr>\n",
       "    <tr>\n",
       "      <th>2019-07-26</th>\n",
       "      <td>24</td>\n",
       "      <td>9847.450195</td>\n",
       "    </tr>\n",
       "    <tr>\n",
       "      <th>2019-07-27</th>\n",
       "      <td>47</td>\n",
       "      <td>9478.320313</td>\n",
       "    </tr>\n",
       "    <tr>\n",
       "      <th>2019-07-28</th>\n",
       "      <td>16</td>\n",
       "      <td>9531.769531</td>\n",
       "    </tr>\n",
       "    <tr>\n",
       "      <th>2019-07-29</th>\n",
       "      <td>19</td>\n",
       "      <td>9529.889648</td>\n",
       "    </tr>\n",
       "  </tbody>\n",
       "</table>\n",
       "</div>"
      ],
      "text/plain": [
       "             fng_value        Close\n",
       "2019-07-25          42  9882.429688\n",
       "2019-07-26          24  9847.450195\n",
       "2019-07-27          47  9478.320313\n",
       "2019-07-28          16  9531.769531\n",
       "2019-07-29          19  9529.889648"
      ]
     },
     "execution_count": 619,
     "metadata": {},
     "output_type": "execute_result"
    }
   ],
   "source": [
    "# Join the data into a single DataFrame\n",
    "df = df.join(df2, how=\"inner\")\n",
    "df.tail()"
   ]
  },
  {
   "cell_type": "code",
   "execution_count": 620,
   "metadata": {},
   "outputs": [
    {
     "data": {
      "text/html": [
       "<div>\n",
       "<style scoped>\n",
       "    .dataframe tbody tr th:only-of-type {\n",
       "        vertical-align: middle;\n",
       "    }\n",
       "\n",
       "    .dataframe tbody tr th {\n",
       "        vertical-align: top;\n",
       "    }\n",
       "\n",
       "    .dataframe thead th {\n",
       "        text-align: right;\n",
       "    }\n",
       "</style>\n",
       "<table border=\"1\" class=\"dataframe\">\n",
       "  <thead>\n",
       "    <tr style=\"text-align: right;\">\n",
       "      <th></th>\n",
       "      <th>fng_value</th>\n",
       "      <th>Close</th>\n",
       "    </tr>\n",
       "  </thead>\n",
       "  <tbody>\n",
       "    <tr>\n",
       "      <th>2018-02-01</th>\n",
       "      <td>30</td>\n",
       "      <td>9114.719727</td>\n",
       "    </tr>\n",
       "    <tr>\n",
       "      <th>2018-02-02</th>\n",
       "      <td>15</td>\n",
       "      <td>8870.820313</td>\n",
       "    </tr>\n",
       "    <tr>\n",
       "      <th>2018-02-03</th>\n",
       "      <td>40</td>\n",
       "      <td>9251.269531</td>\n",
       "    </tr>\n",
       "    <tr>\n",
       "      <th>2018-02-04</th>\n",
       "      <td>24</td>\n",
       "      <td>8218.049805</td>\n",
       "    </tr>\n",
       "    <tr>\n",
       "      <th>2018-02-05</th>\n",
       "      <td>11</td>\n",
       "      <td>6937.080078</td>\n",
       "    </tr>\n",
       "  </tbody>\n",
       "</table>\n",
       "</div>"
      ],
      "text/plain": [
       "             fng_value        Close\n",
       "2018-02-01          30  9114.719727\n",
       "2018-02-02          15  8870.820313\n",
       "2018-02-03          40  9251.269531\n",
       "2018-02-04          24  8218.049805\n",
       "2018-02-05          11  6937.080078"
      ]
     },
     "execution_count": 620,
     "metadata": {},
     "output_type": "execute_result"
    }
   ],
   "source": [
    "df.head()"
   ]
  },
  {
   "cell_type": "code",
   "execution_count": 621,
   "metadata": {},
   "outputs": [],
   "source": [
    "# This function accepts the column number for the features (X) and the target (y)\n",
    "# It chunks the data up with a rolling window of Xt-n to predict Xt\n",
    "# It returns a numpy array of X any y\n",
    "def window_data(df, window, feature_col_number, target_col_number):\n",
    "    X = []\n",
    "    y = []\n",
    "    for i in range(len(df) - window - 1):\n",
    "        features = df.iloc[i:(i + window), feature_col_number]\n",
    "        target = df.iloc[(i + window), target_col_number]\n",
    "        X.append(features)\n",
    "        y.append(target)\n",
    "    return np.array(X), np.array(y).reshape(-1, 1)"
   ]
  },
  {
   "cell_type": "code",
   "execution_count": 622,
   "metadata": {},
   "outputs": [],
   "source": [
    "# Predict Closing Prices using a 10 day window of fear and greed index values and a target of the 11th day closing price\n",
    "# Try a window size anywhere from 1 to 10 and see how the model performance changes\n",
    "window_size = 1\n",
    "#window_size = 2\n",
    "#window_size = 3\n",
    "#window_size = 4\n",
    "#window_size = 5\n",
    "#window_size = 6\n",
    "#window_size = 7\n",
    "#window_size = 8\n",
    "#window_size = 9\n",
    "#window_size = 10\n",
    "\n",
    "# Column index 1 is the `Close` column\n",
    "feature_column = 0\n",
    "target_column = 1\n",
    "X, y = window_data(df, window_size, feature_column, target_column)"
   ]
  },
  {
   "cell_type": "code",
   "execution_count": 623,
   "metadata": {},
   "outputs": [],
   "source": [
    "# Use 70% of the data for training and the remainder for testing\n",
    "split = int(0.7 * len(X))\n",
    "X_train = X[: split - 1]\n",
    "X_test = X[split:]\n",
    "y_train = y[: split - 1]\n",
    "y_test = y[split:]"
   ]
  },
  {
   "cell_type": "code",
   "execution_count": 624,
   "metadata": {},
   "outputs": [],
   "source": [
    "# Use MinMaxScaler to scale the data between 0 and 1. \n",
    "from sklearn.preprocessing import MinMaxScaler\n",
    "\n",
    "scaler = MinMaxScaler()\n",
    "scaler.fit(X)\n",
    "X_train = scaler.transform(X_train)\n",
    "X_test = scaler.transform(X_test)\n",
    "scaler.fit(y)\n",
    "y_train = scaler.transform(y_train)\n",
    "y_test = scaler.transform(y_test)"
   ]
  },
  {
   "cell_type": "code",
   "execution_count": 625,
   "metadata": {},
   "outputs": [
    {
     "name": "stdout",
     "output_type": "stream",
     "text": [
      "X_train sample values:\n",
      "[[[0.25287356]]] \n",
      "\n",
      "X_test sample values:\n",
      "[[[0.40229885]]]\n"
     ]
    }
   ],
   "source": [
    "# Reshape the features for the model\n",
    "X_train = X_train.reshape((X_train.shape[0], X_train.shape[1], 1))\n",
    "X_test = X_test.reshape((X_test.shape[0], X_test.shape[1], 1))\n",
    "print (f\"X_train sample values:\\n{X_train[:1]} \\n\")\n",
    "print (f\"X_test sample values:\\n{X_test[:1]}\")"
   ]
  },
  {
   "cell_type": "markdown",
   "metadata": {},
   "source": [
    "---"
   ]
  },
  {
   "cell_type": "markdown",
   "metadata": {},
   "source": [
    "## Build and Train the LSTM RNN\n",
    "\n",
    "In this section, you will design a custom LSTM RNN and fit (train) it using the training data.\n",
    "\n",
    "You will need to:\n",
    "1. Define the model architecture\n",
    "2. Compile the model\n",
    "3. Fit the model to the training data\n",
    "\n",
    "### Hints:\n",
    "You will want to use the same model architecture and random seed for both notebooks. This is necessary to accurately compare the performance of the FNG model vs the closing price model. "
   ]
  },
  {
   "cell_type": "code",
   "execution_count": 626,
   "metadata": {},
   "outputs": [],
   "source": [
    "from tensorflow.keras.models import Sequential\n",
    "from tensorflow.keras.layers import LSTM, Dense, Dropout"
   ]
  },
  {
   "cell_type": "code",
   "execution_count": 627,
   "metadata": {},
   "outputs": [],
   "source": [
    "# Build the LSTM model. \n",
    "# The return sequences need to be set to True if you are adding additional LSTM layers, but \n",
    "# You don't have to do this for the final layer. \n",
    "model = Sequential()\n",
    "\n",
    "# Initial model setup\n",
    "number_units = 30\n",
    "dropout_fraction = 0.2\n",
    "\n",
    "# Layer 1\n",
    "model.add(LSTM(\n",
    "    units=number_units,\n",
    "    return_sequences=True,\n",
    "    input_shape=(X_train.shape[1], 1))\n",
    "    )\n",
    "model.add(Dropout(dropout_fraction))\n",
    "\n",
    "# Layer 2\n",
    "#model.add(LSTM(units=number_units, activation='sigmoid', return_sequences=True))\n",
    "model.add(LSTM(units=number_units, activation='tanh', return_sequences=True))\n",
    "model.add(Dropout(dropout_fraction))\n",
    "\n",
    "# Layer 3\n",
    "model.add(LSTM(units=number_units))\n",
    "model.add(Dropout(dropout_fraction))\n",
    "\n",
    "# Output layer\n",
    "model.add(Dense(1))"
   ]
  },
  {
   "cell_type": "code",
   "execution_count": 628,
   "metadata": {},
   "outputs": [],
   "source": [
    "# Compile the model\n",
    "model.compile(optimizer=\"adam\", loss=\"mean_squared_error\") "
   ]
  },
  {
   "cell_type": "code",
   "execution_count": 629,
   "metadata": {},
   "outputs": [
    {
     "name": "stdout",
     "output_type": "stream",
     "text": [
      "Model: \"sequential_26\"\n",
      "_________________________________________________________________\n",
      "Layer (type)                 Output Shape              Param #   \n",
      "=================================================================\n",
      "lstm_78 (LSTM)               (None, 1, 30)             3840      \n",
      "_________________________________________________________________\n",
      "dropout_78 (Dropout)         (None, 1, 30)             0         \n",
      "_________________________________________________________________\n",
      "lstm_79 (LSTM)               (None, 1, 30)             7320      \n",
      "_________________________________________________________________\n",
      "dropout_79 (Dropout)         (None, 1, 30)             0         \n",
      "_________________________________________________________________\n",
      "lstm_80 (LSTM)               (None, 30)                7320      \n",
      "_________________________________________________________________\n",
      "dropout_80 (Dropout)         (None, 30)                0         \n",
      "_________________________________________________________________\n",
      "dense_26 (Dense)             (None, 1)                 31        \n",
      "=================================================================\n",
      "Total params: 18,511\n",
      "Trainable params: 18,511\n",
      "Non-trainable params: 0\n",
      "_________________________________________________________________\n"
     ]
    }
   ],
   "source": [
    "# Summarize the model\n",
    "model.summary() "
   ]
  },
  {
   "cell_type": "code",
   "execution_count": 630,
   "metadata": {},
   "outputs": [],
   "source": [
    "# Creating validation data sets\n",
    "from sklearn.model_selection import train_test_split\n",
    "X_train, X_val, y_train, y_val = train_test_split(X_train, y_train, train_size=0.7, shuffle=False, random_state=2) "
   ]
  },
  {
   "cell_type": "code",
   "execution_count": 631,
   "metadata": {},
   "outputs": [
    {
     "name": "stdout",
     "output_type": "stream",
     "text": [
      "Train on 263 samples, validate on 114 samples\n",
      "Epoch 1/20\n",
      "263/263 [==============================] - 5s 19ms/sample - loss: 0.2154 - val_loss: 0.0187\n",
      "Epoch 2/20\n",
      "263/263 [==============================] - 0s 191us/sample - loss: 0.1921 - val_loss: 0.0147\n",
      "Epoch 3/20\n",
      "263/263 [==============================] - 0s 208us/sample - loss: 0.1662 - val_loss: 0.0121\n",
      "Epoch 4/20\n",
      "263/263 [==============================] - 0s 198us/sample - loss: 0.1372 - val_loss: 0.0127\n",
      "Epoch 5/20\n",
      "263/263 [==============================] - 0s 205us/sample - loss: 0.1032 - val_loss: 0.0201\n",
      "Epoch 6/20\n",
      "263/263 [==============================] - 0s 205us/sample - loss: 0.0695 - val_loss: 0.0407\n",
      "Epoch 7/20\n",
      "263/263 [==============================] - 0s 209us/sample - loss: 0.0392 - val_loss: 0.0811\n",
      "Epoch 8/20\n",
      "263/263 [==============================] - 0s 216us/sample - loss: 0.0220 - val_loss: 0.1272\n",
      "Epoch 9/20\n",
      "263/263 [==============================] - 0s 197us/sample - loss: 0.0177 - val_loss: 0.1408\n",
      "Epoch 10/20\n",
      "263/263 [==============================] - 0s 199us/sample - loss: 0.0166 - val_loss: 0.1258\n",
      "Epoch 11/20\n",
      "263/263 [==============================] - 0s 206us/sample - loss: 0.0153 - val_loss: 0.1134\n",
      "Epoch 12/20\n",
      "263/263 [==============================] - 0s 199us/sample - loss: 0.0157 - val_loss: 0.1106\n",
      "Epoch 13/20\n",
      "263/263 [==============================] - 0s 192us/sample - loss: 0.0155 - val_loss: 0.1134\n",
      "Epoch 14/20\n",
      "263/263 [==============================] - 0s 191us/sample - loss: 0.0161 - val_loss: 0.1177\n",
      "Epoch 15/20\n",
      "263/263 [==============================] - 0s 196us/sample - loss: 0.0160 - val_loss: 0.1187\n",
      "Epoch 16/20\n",
      "263/263 [==============================] - 0s 191us/sample - loss: 0.0165 - val_loss: 0.1173\n",
      "Epoch 17/20\n",
      "263/263 [==============================] - 0s 237us/sample - loss: 0.0140 - val_loss: 0.1144\n",
      "Epoch 18/20\n",
      "263/263 [==============================] - 0s 191us/sample - loss: 0.0140 - val_loss: 0.1136\n",
      "Epoch 19/20\n",
      "263/263 [==============================] - 0s 187us/sample - loss: 0.0165 - val_loss: 0.1151\n",
      "Epoch 20/20\n",
      "263/263 [==============================] - 0s 186us/sample - loss: 0.0151 - val_loss: 0.1152\n"
     ]
    }
   ],
   "source": [
    "# Train the model\n",
    "# Use at least 10 epochs\n",
    "# Do not shuffle the data\n",
    "# Experiement with the batch size, but a smaller batch size is recommended\n",
    "training_history = model.fit(\n",
    "    X_train, \n",
    "    y_train, \n",
    "    validation_data=(X_val, y_val),\n",
    "    epochs=20, \n",
    "    shuffle=False, \n",
    "    batch_size=30, \n",
    "    verbose=1\n",
    "    )"
   ]
  },
  {
   "cell_type": "code",
   "execution_count": 632,
   "metadata": {},
   "outputs": [
    {
     "name": "stdout",
     "output_type": "stream",
     "text": [
      "Train on 263 samples, validate on 114 samples\n",
      "Epoch 1/50\n",
      "263/263 [==============================] - 0s 544us/sample - loss: 0.0168 - val_loss: 0.0922\n",
      "Epoch 2/50\n",
      "263/263 [==============================] - 0s 505us/sample - loss: 0.0195 - val_loss: 0.0970\n",
      "Epoch 3/50\n",
      "263/263 [==============================] - 0s 459us/sample - loss: 0.0169 - val_loss: 0.1011\n",
      "Epoch 4/50\n",
      "263/263 [==============================] - 0s 455us/sample - loss: 0.0188 - val_loss: 0.0942\n",
      "Epoch 5/50\n",
      "263/263 [==============================] - 0s 452us/sample - loss: 0.0186 - val_loss: 0.0941\n",
      "Epoch 6/50\n",
      "263/263 [==============================] - 0s 496us/sample - loss: 0.0185 - val_loss: 0.0945\n",
      "Epoch 7/50\n",
      "263/263 [==============================] - 0s 517us/sample - loss: 0.0186 - val_loss: 0.0948\n",
      "Epoch 8/50\n",
      "263/263 [==============================] - 0s 561us/sample - loss: 0.0194 - val_loss: 0.0998\n",
      "Epoch 9/50\n",
      "263/263 [==============================] - 0s 490us/sample - loss: 0.0173 - val_loss: 0.0916\n",
      "Epoch 10/50\n",
      "263/263 [==============================] - 0s 491us/sample - loss: 0.0177 - val_loss: 0.0962\n",
      "Epoch 11/50\n",
      "263/263 [==============================] - 0s 482us/sample - loss: 0.0153 - val_loss: 0.0988\n",
      "Epoch 12/50\n",
      "263/263 [==============================] - 0s 474us/sample - loss: 0.0151 - val_loss: 0.0933\n",
      "Epoch 13/50\n",
      "263/263 [==============================] - 0s 518us/sample - loss: 0.0162 - val_loss: 0.0939\n",
      "Epoch 14/50\n",
      "263/263 [==============================] - 0s 495us/sample - loss: 0.0165 - val_loss: 0.0900\n",
      "Epoch 15/50\n",
      "263/263 [==============================] - 0s 476us/sample - loss: 0.0156 - val_loss: 0.1004\n",
      "Epoch 16/50\n",
      "263/263 [==============================] - 0s 519us/sample - loss: 0.0166 - val_loss: 0.0969\n",
      "Epoch 17/50\n",
      "263/263 [==============================] - 0s 533us/sample - loss: 0.0163 - val_loss: 0.0970\n",
      "Epoch 18/50\n",
      "263/263 [==============================] - 0s 593us/sample - loss: 0.0153 - val_loss: 0.0943\n",
      "Epoch 19/50\n",
      "263/263 [==============================] - 0s 513us/sample - loss: 0.0171 - val_loss: 0.0927\n",
      "Epoch 20/50\n",
      "263/263 [==============================] - 0s 473us/sample - loss: 0.0156 - val_loss: 0.0937\n",
      "Epoch 21/50\n",
      "263/263 [==============================] - 0s 516us/sample - loss: 0.0153 - val_loss: 0.0965\n",
      "Epoch 22/50\n",
      "263/263 [==============================] - 0s 503us/sample - loss: 0.0146 - val_loss: 0.0903\n",
      "Epoch 23/50\n",
      "263/263 [==============================] - 0s 578us/sample - loss: 0.0151 - val_loss: 0.1004\n",
      "Epoch 24/50\n",
      "263/263 [==============================] - 0s 524us/sample - loss: 0.0141 - val_loss: 0.0945\n",
      "Epoch 25/50\n",
      "263/263 [==============================] - 0s 481us/sample - loss: 0.0141 - val_loss: 0.0983\n",
      "Epoch 26/50\n",
      "263/263 [==============================] - 0s 516us/sample - loss: 0.0141 - val_loss: 0.0933\n",
      "Epoch 27/50\n",
      "263/263 [==============================] - 0s 523us/sample - loss: 0.0159 - val_loss: 0.0952\n",
      "Epoch 28/50\n",
      "263/263 [==============================] - 0s 531us/sample - loss: 0.0144 - val_loss: 0.0981\n",
      "Epoch 29/50\n",
      "263/263 [==============================] - 0s 606us/sample - loss: 0.0149 - val_loss: 0.0951\n",
      "Epoch 30/50\n",
      "263/263 [==============================] - 0s 494us/sample - loss: 0.0147 - val_loss: 0.0930\n",
      "Epoch 31/50\n",
      "263/263 [==============================] - 0s 487us/sample - loss: 0.0161 - val_loss: 0.0905\n",
      "Epoch 32/50\n",
      "263/263 [==============================] - 0s 451us/sample - loss: 0.0152 - val_loss: 0.0977\n",
      "Epoch 33/50\n",
      "263/263 [==============================] - 0s 474us/sample - loss: 0.0144 - val_loss: 0.0920\n",
      "Epoch 34/50\n",
      "263/263 [==============================] - 0s 484us/sample - loss: 0.0149 - val_loss: 0.0910\n",
      "Epoch 35/50\n",
      "263/263 [==============================] - 0s 486us/sample - loss: 0.0138 - val_loss: 0.0976\n",
      "Epoch 36/50\n",
      "263/263 [==============================] - 0s 463us/sample - loss: 0.0143 - val_loss: 0.0926\n",
      "Epoch 37/50\n",
      "263/263 [==============================] - 0s 490us/sample - loss: 0.0149 - val_loss: 0.0931\n",
      "Epoch 38/50\n",
      "263/263 [==============================] - 0s 510us/sample - loss: 0.0161 - val_loss: 0.0914\n",
      "Epoch 39/50\n",
      "263/263 [==============================] - 0s 468us/sample - loss: 0.0135 - val_loss: 0.0955\n",
      "Epoch 40/50\n",
      "263/263 [==============================] - 0s 458us/sample - loss: 0.0144 - val_loss: 0.0985\n",
      "Epoch 41/50\n",
      "263/263 [==============================] - 0s 461us/sample - loss: 0.0136 - val_loss: 0.0926\n",
      "Epoch 42/50\n",
      "263/263 [==============================] - 0s 468us/sample - loss: 0.0145 - val_loss: 0.0969\n",
      "Epoch 43/50\n",
      "263/263 [==============================] - 0s 496us/sample - loss: 0.0144 - val_loss: 0.0964\n",
      "Epoch 44/50\n",
      "263/263 [==============================] - 0s 466us/sample - loss: 0.0138 - val_loss: 0.0943\n",
      "Epoch 45/50\n",
      "263/263 [==============================] - 0s 488us/sample - loss: 0.0136 - val_loss: 0.0937\n",
      "Epoch 46/50\n",
      "263/263 [==============================] - 0s 478us/sample - loss: 0.0143 - val_loss: 0.0977\n",
      "Epoch 47/50\n",
      "263/263 [==============================] - 0s 488us/sample - loss: 0.0145 - val_loss: 0.0981\n",
      "Epoch 48/50\n",
      "263/263 [==============================] - 0s 466us/sample - loss: 0.0145 - val_loss: 0.0965\n",
      "Epoch 49/50\n",
      "263/263 [==============================] - 0s 502us/sample - loss: 0.0147 - val_loss: 0.0949\n",
      "Epoch 50/50\n",
      "263/263 [==============================] - 0s 470us/sample - loss: 0.0134 - val_loss: 0.0954\n"
     ]
    }
   ],
   "source": [
    "training_history = model.fit(\n",
    "    X_train, \n",
    "    y_train, \n",
    "    validation_data=(X_val, y_val),\n",
    "    epochs=50, \n",
    "    shuffle=False, \n",
    "    batch_size=10, \n",
    "    verbose=1) "
   ]
  },
  {
   "cell_type": "markdown",
   "metadata": {},
   "source": [
    "---"
   ]
  },
  {
   "cell_type": "markdown",
   "metadata": {},
   "source": [
    "## Model Performance\n",
    "\n",
    "In this section, you will evaluate the model using the test data. \n",
    "\n",
    "You will need to:\n",
    "1. Evaluate the model using the `X_test` and `y_test` data.\n",
    "2. Use the X_test data to make predictions\n",
    "3. Create a DataFrame of Real (y_test) vs predicted values. \n",
    "4. Plot the Real vs predicted values as a line chart\n",
    "\n",
    "### Hints\n",
    "Remember to apply the `inverse_transform` function to the predicted and y_test values to recover the actual closing prices."
   ]
  },
  {
   "cell_type": "code",
   "execution_count": 633,
   "metadata": {},
   "outputs": [
    {
     "name": "stdout",
     "output_type": "stream",
     "text": [
      "\n",
      " Evaluate on test data for 1-day rolling bitcoin closing prices:\n",
      "\n",
      " Based on FNG Index, with unshuffled valuation, test loss on LSTM RNN is 0.1152.\n"
     ]
    }
   ],
   "source": [
    "# Evaluate the model on the test data using `evaluate`\n",
    "print(f'\\n Evaluate on test data for {window_size}-day rolling bitcoin closing prices:')\n",
    "results = model.evaluate(X_test, y_test, verbose=0)\n",
    "print(f'\\n Based on FNG Index, with unshuffled valuation, test loss on LSTM RNN is {results:,.4f}.')"
   ]
  },
  {
   "cell_type": "code",
   "execution_count": 634,
   "metadata": {},
   "outputs": [],
   "source": [
    "# Make some predictions\n",
    "predicted = model.predict(X_test)"
   ]
  },
  {
   "cell_type": "code",
   "execution_count": 635,
   "metadata": {},
   "outputs": [],
   "source": [
    "# Recover the original prices instead of the scaled version\n",
    "predicted_prices = scaler.inverse_transform(predicted)\n",
    "real_prices = scaler.inverse_transform(y_test.reshape(-1, 1))"
   ]
  },
  {
   "cell_type": "code",
   "execution_count": 636,
   "metadata": {},
   "outputs": [
    {
     "data": {
      "text/html": [
       "<div>\n",
       "<style scoped>\n",
       "    .dataframe tbody tr th:only-of-type {\n",
       "        vertical-align: middle;\n",
       "    }\n",
       "\n",
       "    .dataframe tbody tr th {\n",
       "        vertical-align: top;\n",
       "    }\n",
       "\n",
       "    .dataframe thead th {\n",
       "        text-align: right;\n",
       "    }\n",
       "</style>\n",
       "<table border=\"1\" class=\"dataframe\">\n",
       "  <thead>\n",
       "    <tr style=\"text-align: right;\">\n",
       "      <th></th>\n",
       "      <th>Real</th>\n",
       "      <th>Predicted</th>\n",
       "    </tr>\n",
       "  </thead>\n",
       "  <tbody>\n",
       "    <tr>\n",
       "      <th>0</th>\n",
       "      <td>3670.919922</td>\n",
       "      <td>7951.530762</td>\n",
       "    </tr>\n",
       "    <tr>\n",
       "      <th>1</th>\n",
       "      <td>3670.919922</td>\n",
       "      <td>7828.386719</td>\n",
       "    </tr>\n",
       "    <tr>\n",
       "      <th>2</th>\n",
       "      <td>3912.570068</td>\n",
       "      <td>7648.010254</td>\n",
       "    </tr>\n",
       "    <tr>\n",
       "      <th>3</th>\n",
       "      <td>3924.239990</td>\n",
       "      <td>9310.462891</td>\n",
       "    </tr>\n",
       "    <tr>\n",
       "      <th>4</th>\n",
       "      <td>3974.050049</td>\n",
       "      <td>9458.948242</td>\n",
       "    </tr>\n",
       "  </tbody>\n",
       "</table>\n",
       "</div>"
      ],
      "text/plain": [
       "          Real    Predicted\n",
       "0  3670.919922  7951.530762\n",
       "1  3670.919922  7828.386719\n",
       "2  3912.570068  7648.010254\n",
       "3  3924.239990  9310.462891\n",
       "4  3974.050049  9458.948242"
      ]
     },
     "execution_count": 636,
     "metadata": {},
     "output_type": "execute_result"
    }
   ],
   "source": [
    "# Create a DataFrame of Real and Predicted values\n",
    "btc_fng = pd.DataFrame({\n",
    "    \"Real\": real_prices.ravel(),\n",
    "    \"Predicted\": predicted_prices.ravel()\n",
    "})\n",
    "btc_fng.head()"
   ]
  },
  {
   "cell_type": "code",
   "execution_count": 637,
   "metadata": {},
   "outputs": [
    {
     "data": {
      "text/plain": [
       "<Figure size 432x288 with 0 Axes>"
      ]
     },
     "metadata": {},
     "output_type": "display_data"
    },
    {
     "data": {
      "image/png": "[encoded data removed]",
      "text/plain": [
       "<Figure size 432x288 with 1 Axes>"
      ]
     },
     "metadata": {
      "needs_background": "light"
     },
     "output_type": "display_data"
    }
   ],
   "source": [
    "# Plot the real vs predicted values as a line chartimport matplotlib\n",
    "import matplotlib.pyplot as plt\n",
    "import matplotlib\n",
    "import matplotlib.pyplot as plt\n",
    "plt.figure()\n",
    "btc_fng.plot(title=f\"{window_size}-Day Rolling Unshuffled Real Vs. FNG Predicted Bitcoin Prices\")\n",
    "plt.savefig('../Images/btc_fng_unshuffled_1day.png')\n",
    "plt.show()"
   ]
  },
  {
   "cell_type": "code",
   "execution_count": 638,
   "metadata": {},
   "outputs": [
    {
     "data": {
      "text/plain": [
       "<Figure size 432x288 with 0 Axes>"
      ]
     },
     "metadata": {},
     "output_type": "display_data"
    },
    {
     "data": {
      "image/png": "[encoded data removed]",
      "text/plain": [
       "<Figure size 432x288 with 1 Axes>"
      ]
     },
     "metadata": {
      "needs_background": "light"
     },
     "output_type": "display_data"
    }
   ],
   "source": [
    "# Plotting loss\n",
    "epochs = 50\n",
    "loss_df = pd.DataFrame(\n",
    "    {\n",
    "        \"Epoch\": range(1, epochs + 1),\n",
    "        \"Train\": training_history.history[\"loss\"],\n",
    "        \"Val\": training_history.history[\"val_loss\"],\n",
    "    }\n",
    ")\n",
    "loss_df.set_index(\"Epoch\", inplace=True)\n",
    "\n",
    "plt.figure()\n",
    "loss_df.plot(title=f\"Loss on LSTM {window_size}-Day Unshuffled Model for FNG Predicted Bitcoin Closing Prices\")\n",
    "plt.savefig('../Images/btc_fng_loss_unshuffled_1day.png')\n",
    "plt.show()"
   ]
  },
  {
   "cell_type": "code",
   "execution_count": 639,
   "metadata": {},
   "outputs": [],
   "source": [
    "import h5py\n",
    "\n",
    "model.save('../Models/btc_fng_unshuffled_1day.h5')  # creates a HDF5 file 'my_model.h5'\n",
    "del model  # deletes the existing model"
   ]
  },
  {
   "cell_type": "code",
   "execution_count": 640,
   "metadata": {},
   "outputs": [],
   "source": [
    "from keras.models import load_model\n",
    "import tensorflow as tf\n",
    "from tensorflow import keras"
   ]
  },
  {
   "cell_type": "code",
   "execution_count": 641,
   "metadata": {},
   "outputs": [],
   "source": [
    "# returns a compiled model\n",
    "# identical to the previous one\n",
    "model = tf.keras.models.load_model('../Models/btc_fng_unshuffled_1day.h5')"
   ]
  },
  {
   "cell_type": "markdown",
   "metadata": {},
   "source": [
    "### One-Day Window\n",
    "_**Shuffled Valuation**_"
   ]
  },
  {
   "cell_type": "markdown",
   "metadata": {},
   "source": [
    "#### _**Data Preparation**_"
   ]
  },
  {
   "cell_type": "code",
   "execution_count": 569,
   "metadata": {},
   "outputs": [],
   "source": [
    "# Predict Closing Prices using a 10 day window of fear and greed index values and a target of the 11th day closing price\n",
    "# Try a window size anywhere from 1 to 10 and see how the model performance changes\n",
    "window_size = 1\n",
    "\n",
    "# Column index 1 is the `Close` column\n",
    "feature_column = 0\n",
    "target_column = 1\n",
    "X, y = window_data(df, window_size, feature_column, target_column)"
   ]
  },
  {
   "cell_type": "code",
   "execution_count": 570,
   "metadata": {},
   "outputs": [],
   "source": [
    "# Use 70% of the data for training and the remainder for testing\n",
    "split = int(0.7 * len(X))\n",
    "X_train = X[: split - 1]\n",
    "X_test = X[split:]\n",
    "y_train = y[: split - 1]\n",
    "y_test = y[split:]"
   ]
  },
  {
   "cell_type": "code",
   "execution_count": 571,
   "metadata": {},
   "outputs": [],
   "source": [
    "# Use MinMaxScaler to scale the data between 0 and 1. \n",
    "from sklearn.preprocessing import MinMaxScaler\n",
    "\n",
    "scaler = MinMaxScaler()\n",
    "scaler.fit(X)\n",
    "X_train = scaler.transform(X_train)\n",
    "X_test = scaler.transform(X_test)\n",
    "scaler.fit(y)\n",
    "y_train = scaler.transform(y_train)\n",
    "y_test = scaler.transform(y_test)"
   ]
  },
  {
   "cell_type": "code",
   "execution_count": 572,
   "metadata": {},
   "outputs": [
    {
     "name": "stdout",
     "output_type": "stream",
     "text": [
      "X_train sample values:\n",
      "[[[0.25287356]]] \n",
      "\n",
      "X_test sample values:\n",
      "[[[0.40229885]]]\n"
     ]
    }
   ],
   "source": [
    "# Reshape the features for the model\n",
    "X_train = X_train.reshape((X_train.shape[0], X_train.shape[1], 1))\n",
    "X_test = X_test.reshape((X_test.shape[0], X_test.shape[1], 1))\n",
    "print (f\"X_train sample values:\\n{X_train[:1]} \\n\")\n",
    "print (f\"X_test sample values:\\n{X_test[:1]}\")"
   ]
  },
  {
   "cell_type": "markdown",
   "metadata": {},
   "source": [
    "#### _**Model Training**_"
   ]
  },
  {
   "cell_type": "code",
   "execution_count": 573,
   "metadata": {},
   "outputs": [],
   "source": [
    "from tensorflow.keras.models import Sequential\n",
    "from tensorflow.keras.layers import LSTM, Dense, Dropout"
   ]
  },
  {
   "cell_type": "code",
   "execution_count": 574,
   "metadata": {},
   "outputs": [],
   "source": [
    "# Build the LSTM model. \n",
    "# The return sequences need to be set to True if you are adding additional LSTM layers, but \n",
    "# You don't have to do this for the final layer. \n",
    "# Define the LSTM RNN model.\n",
    "\n",
    "model = Sequential()\n",
    "\n",
    "# Initial model setup\n",
    "number_units = 30\n",
    "dropout_fraction = 0.2\n",
    "\n",
    "# Layer 1\n",
    "model.add(LSTM(\n",
    "    units=number_units,\n",
    "    return_sequences=True,\n",
    "    input_shape=(X_train.shape[1], 1))\n",
    "    )\n",
    "model.add(Dropout(dropout_fraction))\n",
    "\n",
    "# Layer 2\n",
    "model.add(LSTM(units=number_units, activation='tanh', return_sequences=True))\n",
    "model.add(Dropout(dropout_fraction))\n",
    "\n",
    "# Layer 3\n",
    "model.add(LSTM(units=number_units))\n",
    "model.add(Dropout(dropout_fraction))\n",
    "\n",
    "# Output layer\n",
    "model.add(Dense(1))"
   ]
  },
  {
   "cell_type": "code",
   "execution_count": 575,
   "metadata": {},
   "outputs": [],
   "source": [
    "# Compile the model\n",
    "model.compile(optimizer=\"adam\", \n",
    "              loss=\"mean_squared_error\") "
   ]
  },
  {
   "cell_type": "code",
   "execution_count": 576,
   "metadata": {},
   "outputs": [
    {
     "name": "stdout",
     "output_type": "stream",
     "text": [
      "Model: \"sequential_24\"\n",
      "_________________________________________________________________\n",
      "Layer (type)                 Output Shape              Param #   \n",
      "=================================================================\n",
      "lstm_72 (LSTM)               (None, 1, 30)             3840      \n",
      "_________________________________________________________________\n",
      "dropout_72 (Dropout)         (None, 1, 30)             0         \n",
      "_________________________________________________________________\n",
      "lstm_73 (LSTM)               (None, 1, 30)             7320      \n",
      "_________________________________________________________________\n",
      "dropout_73 (Dropout)         (None, 1, 30)             0         \n",
      "_________________________________________________________________\n",
      "lstm_74 (LSTM)               (None, 30)                7320      \n",
      "_________________________________________________________________\n",
      "dropout_74 (Dropout)         (None, 30)                0         \n",
      "_________________________________________________________________\n",
      "dense_24 (Dense)             (None, 1)                 31        \n",
      "=================================================================\n",
      "Total params: 18,511\n",
      "Trainable params: 18,511\n",
      "Non-trainable params: 0\n",
      "_________________________________________________________________\n"
     ]
    }
   ],
   "source": [
    "# Summarize the model\n",
    "model.summary() "
   ]
  },
  {
   "cell_type": "code",
   "execution_count": 577,
   "metadata": {},
   "outputs": [],
   "source": [
    "# Creating validation data sets\n",
    "from sklearn.model_selection import train_test_split\n",
    "X_train, X_val, y_train, y_val = train_test_split(X_train, y_train, train_size=0.7, random_state=2) "
   ]
  },
  {
   "cell_type": "code",
   "execution_count": 578,
   "metadata": {},
   "outputs": [
    {
     "name": "stdout",
     "output_type": "stream",
     "text": [
      "Train on 263 samples, validate on 114 samples\n",
      "Epoch 1/20\n",
      "263/263 [==============================] - 6s 22ms/sample - loss: 0.1512 - val_loss: 0.1487\n",
      "Epoch 2/20\n",
      "263/263 [==============================] - 0s 202us/sample - loss: 0.1300 - val_loss: 0.1260\n",
      "Epoch 3/20\n",
      "263/263 [==============================] - 0s 213us/sample - loss: 0.1074 - val_loss: 0.1018\n",
      "Epoch 4/20\n",
      "263/263 [==============================] - 0s 216us/sample - loss: 0.0846 - val_loss: 0.0768\n",
      "Epoch 5/20\n",
      "263/263 [==============================] - 0s 198us/sample - loss: 0.0613 - val_loss: 0.0540\n",
      "Epoch 6/20\n",
      "263/263 [==============================] - 0s 206us/sample - loss: 0.0449 - val_loss: 0.0395\n",
      "Epoch 7/20\n",
      "263/263 [==============================] - 0s 249us/sample - loss: 0.0379 - val_loss: 0.0362\n",
      "Epoch 8/20\n",
      "263/263 [==============================] - 0s 195us/sample - loss: 0.0387 - val_loss: 0.0359\n",
      "Epoch 9/20\n",
      "263/263 [==============================] - 0s 197us/sample - loss: 0.0406 - val_loss: 0.0361\n",
      "Epoch 10/20\n",
      "263/263 [==============================] - 0s 208us/sample - loss: 0.0384 - val_loss: 0.0364\n",
      "Epoch 11/20\n",
      "263/263 [==============================] - 0s 198us/sample - loss: 0.0383 - val_loss: 0.0360\n",
      "Epoch 12/20\n",
      "263/263 [==============================] - 0s 204us/sample - loss: 0.0383 - val_loss: 0.0351\n",
      "Epoch 13/20\n",
      "263/263 [==============================] - 0s 205us/sample - loss: 0.0375 - val_loss: 0.0345\n",
      "Epoch 14/20\n",
      "263/263 [==============================] - 0s 187us/sample - loss: 0.0364 - val_loss: 0.0339\n",
      "Epoch 15/20\n",
      "263/263 [==============================] - 0s 208us/sample - loss: 0.0377 - val_loss: 0.0336\n",
      "Epoch 16/20\n",
      "263/263 [==============================] - 0s 192us/sample - loss: 0.0367 - val_loss: 0.0331\n",
      "Epoch 17/20\n",
      "263/263 [==============================] - 0s 200us/sample - loss: 0.0360 - val_loss: 0.0328\n",
      "Epoch 18/20\n",
      "263/263 [==============================] - 0s 201us/sample - loss: 0.0357 - val_loss: 0.0323\n",
      "Epoch 19/20\n",
      "263/263 [==============================] - 0s 199us/sample - loss: 0.0354 - val_loss: 0.0313\n",
      "Epoch 20/20\n",
      "263/263 [==============================] - 0s 203us/sample - loss: 0.0364 - val_loss: 0.0310\n"
     ]
    }
   ],
   "source": [
    "# Train the model\n",
    "# Use at least 10 epochs\n",
    "# Do not shuffle the data\n",
    "# Experiement with the batch size, but a smaller batch size is recommended\n",
    "training_history = model.fit(\n",
    "    X_train, \n",
    "    y_train, \n",
    "    validation_data=(X_val, y_val),\n",
    "    epochs=20, \n",
    "    shuffle=False, \n",
    "    batch_size=30, \n",
    "    verbose=1\n",
    "  ) "
   ]
  },
  {
   "cell_type": "code",
   "execution_count": 579,
   "metadata": {},
   "outputs": [
    {
     "name": "stdout",
     "output_type": "stream",
     "text": [
      "Train on 263 samples, validate on 114 samples\n",
      "Epoch 1/50\n",
      "263/263 [==============================] - 0s 534us/sample - loss: 0.0331 - val_loss: 0.0297\n",
      "Epoch 2/50\n",
      "263/263 [==============================] - 0s 541us/sample - loss: 0.0369 - val_loss: 0.0300\n",
      "Epoch 3/50\n",
      "263/263 [==============================] - 0s 492us/sample - loss: 0.0332 - val_loss: 0.0286\n",
      "Epoch 4/50\n",
      "263/263 [==============================] - 0s 487us/sample - loss: 0.0376 - val_loss: 0.0298\n",
      "Epoch 5/50\n",
      "263/263 [==============================] - 0s 503us/sample - loss: 0.0353 - val_loss: 0.0291\n",
      "Epoch 6/50\n",
      "263/263 [==============================] - 0s 472us/sample - loss: 0.0361 - val_loss: 0.0288\n",
      "Epoch 7/50\n",
      "263/263 [==============================] - 0s 479us/sample - loss: 0.0362 - val_loss: 0.0286\n",
      "Epoch 8/50\n",
      "263/263 [==============================] - 0s 489us/sample - loss: 0.0339 - val_loss: 0.0284\n",
      "Epoch 9/50\n",
      "263/263 [==============================] - 0s 495us/sample - loss: 0.0352 - val_loss: 0.0285\n",
      "Epoch 10/50\n",
      "263/263 [==============================] - 0s 508us/sample - loss: 0.0377 - val_loss: 0.0287\n",
      "Epoch 11/50\n",
      "263/263 [==============================] - 0s 547us/sample - loss: 0.0352 - val_loss: 0.0282\n",
      "Epoch 12/50\n",
      "263/263 [==============================] - 0s 534us/sample - loss: 0.0344 - val_loss: 0.0289\n",
      "Epoch 13/50\n",
      "263/263 [==============================] - 0s 486us/sample - loss: 0.0353 - val_loss: 0.0283\n",
      "Epoch 14/50\n",
      "263/263 [==============================] - 0s 624us/sample - loss: 0.0347 - val_loss: 0.0290\n",
      "Epoch 15/50\n",
      "263/263 [==============================] - 0s 528us/sample - loss: 0.0353 - val_loss: 0.0283\n",
      "Epoch 16/50\n",
      "263/263 [==============================] - 0s 570us/sample - loss: 0.0349 - val_loss: 0.0281\n",
      "Epoch 17/50\n",
      "263/263 [==============================] - 0s 520us/sample - loss: 0.0355 - val_loss: 0.0284\n",
      "Epoch 18/50\n",
      "263/263 [==============================] - 0s 508us/sample - loss: 0.0348 - val_loss: 0.0283\n",
      "Epoch 19/50\n",
      "263/263 [==============================] - 0s 529us/sample - loss: 0.0336 - val_loss: 0.0280\n",
      "Epoch 20/50\n",
      "263/263 [==============================] - 0s 523us/sample - loss: 0.0344 - val_loss: 0.0282\n",
      "Epoch 21/50\n",
      "263/263 [==============================] - 0s 480us/sample - loss: 0.0345 - val_loss: 0.0286\n",
      "Epoch 22/50\n",
      "263/263 [==============================] - 0s 482us/sample - loss: 0.0330 - val_loss: 0.0282\n",
      "Epoch 23/50\n",
      "263/263 [==============================] - 0s 456us/sample - loss: 0.0321 - val_loss: 0.0276\n",
      "Epoch 24/50\n",
      "263/263 [==============================] - 0s 444us/sample - loss: 0.0344 - val_loss: 0.0287\n",
      "Epoch 25/50\n",
      "263/263 [==============================] - 0s 836us/sample - loss: 0.0343 - val_loss: 0.0276\n",
      "Epoch 26/50\n",
      "263/263 [==============================] - 0s 522us/sample - loss: 0.0332 - val_loss: 0.0286\n",
      "Epoch 27/50\n",
      "263/263 [==============================] - 0s 482us/sample - loss: 0.0325 - val_loss: 0.0279\n",
      "Epoch 28/50\n",
      "263/263 [==============================] - 0s 455us/sample - loss: 0.0342 - val_loss: 0.0287\n",
      "Epoch 29/50\n",
      "263/263 [==============================] - 0s 476us/sample - loss: 0.0330 - val_loss: 0.0278\n",
      "Epoch 30/50\n",
      "263/263 [==============================] - 0s 519us/sample - loss: 0.0343 - val_loss: 0.0281\n",
      "Epoch 31/50\n",
      "263/263 [==============================] - 0s 474us/sample - loss: 0.0339 - val_loss: 0.0285\n",
      "Epoch 32/50\n",
      "263/263 [==============================] - 0s 481us/sample - loss: 0.0354 - val_loss: 0.0287\n",
      "Epoch 33/50\n",
      "263/263 [==============================] - 0s 541us/sample - loss: 0.0326 - val_loss: 0.0280\n",
      "Epoch 34/50\n",
      "263/263 [==============================] - 0s 520us/sample - loss: 0.0341 - val_loss: 0.0282\n",
      "Epoch 35/50\n",
      "263/263 [==============================] - 0s 496us/sample - loss: 0.0337 - val_loss: 0.0286\n",
      "Epoch 36/50\n",
      "263/263 [==============================] - 0s 578us/sample - loss: 0.0333 - val_loss: 0.0284\n",
      "Epoch 37/50\n",
      "263/263 [==============================] - 0s 523us/sample - loss: 0.0323 - val_loss: 0.0284\n",
      "Epoch 38/50\n",
      "263/263 [==============================] - 0s 482us/sample - loss: 0.0338 - val_loss: 0.0281\n",
      "Epoch 39/50\n",
      "263/263 [==============================] - 0s 475us/sample - loss: 0.0347 - val_loss: 0.0285\n",
      "Epoch 40/50\n",
      "263/263 [==============================] - 0s 450us/sample - loss: 0.0343 - val_loss: 0.0283\n",
      "Epoch 41/50\n",
      "263/263 [==============================] - 0s 475us/sample - loss: 0.0338 - val_loss: 0.0287\n",
      "Epoch 42/50\n",
      "263/263 [==============================] - 0s 492us/sample - loss: 0.0343 - val_loss: 0.0277\n",
      "Epoch 43/50\n",
      "263/263 [==============================] - 0s 484us/sample - loss: 0.0343 - val_loss: 0.0288\n",
      "Epoch 44/50\n",
      "263/263 [==============================] - 0s 487us/sample - loss: 0.0357 - val_loss: 0.0282\n",
      "Epoch 45/50\n",
      "263/263 [==============================] - 0s 539us/sample - loss: 0.0336 - val_loss: 0.0287\n",
      "Epoch 46/50\n",
      "263/263 [==============================] - 0s 488us/sample - loss: 0.0332 - val_loss: 0.0279\n",
      "Epoch 47/50\n",
      "263/263 [==============================] - 0s 491us/sample - loss: 0.0334 - val_loss: 0.0281\n",
      "Epoch 48/50\n",
      "263/263 [==============================] - 0s 491us/sample - loss: 0.0334 - val_loss: 0.0282\n",
      "Epoch 49/50\n",
      "263/263 [==============================] - 0s 503us/sample - loss: 0.0342 - val_loss: 0.0283\n",
      "Epoch 50/50\n",
      "263/263 [==============================] - 0s 523us/sample - loss: 0.0349 - val_loss: 0.0283\n"
     ]
    }
   ],
   "source": [
    "training_history = model.fit(\n",
    "    X_train, \n",
    "    y_train, \n",
    "    validation_data=(X_val, y_val),\n",
    "    epochs=50, \n",
    "    shuffle=False, \n",
    "    batch_size=10, \n",
    "    verbose=1) "
   ]
  },
  {
   "cell_type": "markdown",
   "metadata": {},
   "source": [
    "#### _**Model Performance**_"
   ]
  },
  {
   "cell_type": "code",
   "execution_count": 580,
   "metadata": {},
   "outputs": [
    {
     "name": "stdout",
     "output_type": "stream",
     "text": [
      "\n",
      " Evaluate on test data for rolling 1-day bitcoin closing prices:\n",
      "\n",
      " Based on FNG Index, test loss on LSTM RNN is 0.1019.\n"
     ]
    }
   ],
   "source": [
    "# Evaluate the model on the test data using `evaluate`\n",
    "print(f'\\n Evaluate on test data for rolling {window_size}-day bitcoin closing prices:')\n",
    "results = model.evaluate(X_test, y_test, verbose=0)\n",
    "print(f'\\n Based on FNG Index, test loss on LSTM RNN is {results:,.4f}.')"
   ]
  },
  {
   "cell_type": "code",
   "execution_count": 581,
   "metadata": {},
   "outputs": [],
   "source": [
    "# Make some predictions\n",
    "# Make predictions using the testing data X_test\n",
    "predicted = model.predict(X_test)"
   ]
  },
  {
   "cell_type": "code",
   "execution_count": 582,
   "metadata": {},
   "outputs": [],
   "source": [
    "# Recover the original prices instead of the scaled version\n",
    "predicted_prices = scaler.inverse_transform(predicted)\n",
    "real_prices = scaler.inverse_transform(y_test.reshape(-1, 1))"
   ]
  },
  {
   "cell_type": "code",
   "execution_count": 583,
   "metadata": {},
   "outputs": [
    {
     "data": {
      "text/html": [
       "<div>\n",
       "<style scoped>\n",
       "    .dataframe tbody tr th:only-of-type {\n",
       "        vertical-align: middle;\n",
       "    }\n",
       "\n",
       "    .dataframe tbody tr th {\n",
       "        vertical-align: top;\n",
       "    }\n",
       "\n",
       "    .dataframe thead th {\n",
       "        text-align: right;\n",
       "    }\n",
       "</style>\n",
       "<table border=\"1\" class=\"dataframe\">\n",
       "  <thead>\n",
       "    <tr style=\"text-align: right;\">\n",
       "      <th></th>\n",
       "      <th>Real</th>\n",
       "      <th>Predicted</th>\n",
       "    </tr>\n",
       "  </thead>\n",
       "  <tbody>\n",
       "    <tr>\n",
       "      <th>0</th>\n",
       "      <td>3670.919922</td>\n",
       "      <td>7237.300293</td>\n",
       "    </tr>\n",
       "    <tr>\n",
       "      <th>1</th>\n",
       "      <td>3670.919922</td>\n",
       "      <td>7088.113770</td>\n",
       "    </tr>\n",
       "    <tr>\n",
       "      <th>2</th>\n",
       "      <td>3912.570068</td>\n",
       "      <td>6873.434570</td>\n",
       "    </tr>\n",
       "    <tr>\n",
       "      <th>3</th>\n",
       "      <td>3924.239990</td>\n",
       "      <td>9024.020508</td>\n",
       "    </tr>\n",
       "    <tr>\n",
       "      <th>4</th>\n",
       "      <td>3974.050049</td>\n",
       "      <td>9234.712891</td>\n",
       "    </tr>\n",
       "  </tbody>\n",
       "</table>\n",
       "</div>"
      ],
      "text/plain": [
       "          Real    Predicted\n",
       "0  3670.919922  7237.300293\n",
       "1  3670.919922  7088.113770\n",
       "2  3912.570068  6873.434570\n",
       "3  3924.239990  9024.020508\n",
       "4  3974.050049  9234.712891"
      ]
     },
     "execution_count": 583,
     "metadata": {},
     "output_type": "execute_result"
    }
   ],
   "source": [
    "# Create a DataFrame of Real and Predicted values\n",
    "btc_fng = pd.DataFrame({\n",
    "    \"Real\": real_prices.ravel(),\n",
    "    \"Predicted\": predicted_prices.ravel()\n",
    "})\n",
    "btc_fng.head()"
   ]
  },
  {
   "cell_type": "code",
   "execution_count": 584,
   "metadata": {},
   "outputs": [
    {
     "data": {
      "text/plain": [
       "<Figure size 432x288 with 0 Axes>"
      ]
     },
     "metadata": {},
     "output_type": "display_data"
    },
    {
     "data": {
      "image/png": "[encoded data removed]",
      "text/plain": [
       "<Figure size 432x288 with 1 Axes>"
      ]
     },
     "metadata": {
      "needs_background": "light"
     },
     "output_type": "display_data"
    }
   ],
   "source": [
    "# Plot the real vs predicted values as a line chart\n",
    "import matplotlib.pyplot as plt\n",
    "import matplotlib\n",
    "import matplotlib.pyplot as plt\n",
    "plt.figure()\n",
    "btc_fng.plot(title=f\"{window_size}-Day Rolling Real vs. FNG Predicted Bitcoin Prices\")\n",
    "plt.savefig('../Images/btc_fng_1day.png')\n",
    "plt.show()"
   ]
  },
  {
   "cell_type": "code",
   "execution_count": 585,
   "metadata": {},
   "outputs": [
    {
     "data": {
      "text/plain": [
       "<Figure size 432x288 with 0 Axes>"
      ]
     },
     "metadata": {},
     "output_type": "display_data"
    },
    {
     "data": {
      "image/png": "[encoded data removed]",
      "text/plain": [
       "<Figure size 432x288 with 1 Axes>"
      ]
     },
     "metadata": {
      "needs_background": "light"
     },
     "output_type": "display_data"
    }
   ],
   "source": [
    "# Plotting loss\n",
    "epochs = 50\n",
    "loss_df = pd.DataFrame(\n",
    "    {\n",
    "        \"Epoch\": range(1, epochs + 1),\n",
    "        \"Train\": training_history.history[\"loss\"],\n",
    "        \"Val\": training_history.history[\"val_loss\"],\n",
    "    }\n",
    ")\n",
    "loss_df.set_index(\"Epoch\", inplace=True)\n",
    "\n",
    "plt.figure()\n",
    "loss_df.plot(title=f\"Loss on LSTM {window_size}-Day Model for FNG Predicted Bitcoin Closing Prices\")\n",
    "plt.savefig('../Images/btc_fng_loss_1day.png')\n",
    "plt.show()"
   ]
  },
  {
   "cell_type": "markdown",
   "metadata": {},
   "source": [
    "#### _**Save the Model**_"
   ]
  },
  {
   "cell_type": "code",
   "execution_count": 586,
   "metadata": {},
   "outputs": [],
   "source": [
    "import h5py\n",
    "\n",
    "model.save('../Models/btc_fng_1day.h5')  # creates a HDF5 file 'my_model.h5'\n",
    "del model  # deletes the existing model"
   ]
  },
  {
   "cell_type": "code",
   "execution_count": 587,
   "metadata": {},
   "outputs": [],
   "source": [
    "from keras.models import load_model\n",
    "import tensorflow as tf\n",
    "from tensorflow import keras"
   ]
  },
  {
   "cell_type": "code",
   "execution_count": 588,
   "metadata": {},
   "outputs": [],
   "source": [
    "# returns a compiled model\n",
    "# identical to the previous one\n",
    "model = tf.keras.models.load_model('../Models/btc_fng_1day.h5')"
   ]
  },
  {
   "cell_type": "markdown",
   "metadata": {},
   "source": [
    "### One-Day Window\n",
    "_**Default Valuation**_"
   ]
  },
  {
   "cell_type": "code",
   "execution_count": 658,
   "metadata": {},
   "outputs": [],
   "source": [
    "# Predict Closing Prices using a 10 day window of fear and greed index values and a target of the 11th day closing price\n",
    "# Try a window size anywhere from 1 to 10 and see how the model performance changes\n",
    "window_size = 1\n",
    "\n",
    "# Column index 1 is the `Close` column\n",
    "feature_column = 0\n",
    "target_column = 1\n",
    "X, y = window_data(df, window_size, feature_column, target_column)"
   ]
  },
  {
   "cell_type": "code",
   "execution_count": 659,
   "metadata": {},
   "outputs": [],
   "source": [
    "# Use 70% of the data for training and the remainder for testing\n",
    "split = int(0.7 * len(X))\n",
    "X_train = X[: split - 1]\n",
    "X_test = X[split:]\n",
    "y_train = y[: split - 1]\n",
    "y_test = y[split:]"
   ]
  },
  {
   "cell_type": "code",
   "execution_count": 660,
   "metadata": {},
   "outputs": [],
   "source": [
    "# Use MinMaxScaler to scale the data between 0 and 1. \n",
    "from sklearn.preprocessing import MinMaxScaler\n",
    "\n",
    "scaler = MinMaxScaler()\n",
    "scaler.fit(X)\n",
    "X_train = scaler.transform(X_train)\n",
    "X_test = scaler.transform(X_test)\n",
    "scaler.fit(y)\n",
    "y_train = scaler.transform(y_train)\n",
    "y_test = scaler.transform(y_test)"
   ]
  },
  {
   "cell_type": "code",
   "execution_count": 661,
   "metadata": {},
   "outputs": [
    {
     "name": "stdout",
     "output_type": "stream",
     "text": [
      "X_train sample values:\n",
      "[[[0.25287356]]] \n",
      "\n",
      "X_test sample values:\n",
      "[[[0.40229885]]]\n"
     ]
    }
   ],
   "source": [
    "# Reshape the features for the model\n",
    "X_train = X_train.reshape((X_train.shape[0], X_train.shape[1], 1))\n",
    "X_test = X_test.reshape((X_test.shape[0], X_test.shape[1], 1))\n",
    "print (f\"X_train sample values:\\n{X_train[:1]} \\n\")\n",
    "print (f\"X_test sample values:\\n{X_test[:1]}\")"
   ]
  },
  {
   "cell_type": "code",
   "execution_count": 662,
   "metadata": {},
   "outputs": [],
   "source": [
    "from tensorflow.keras.models import Sequential\n",
    "from tensorflow.keras.layers import LSTM, Dense, Dropout"
   ]
  },
  {
   "cell_type": "code",
   "execution_count": 663,
   "metadata": {},
   "outputs": [],
   "source": [
    "# Build the LSTM model. \n",
    "# The return sequences need to be set to True if you are adding additional LSTM layers, but \n",
    "# You don't have to do this for the final layer. \n",
    "# Define the LSTM RNN model.\n",
    "\n",
    "model = Sequential()\n",
    "\n",
    "# Initial model setup\n",
    "number_units = 30\n",
    "dropout_fraction = 0.2\n",
    "\n",
    "# Layer 1\n",
    "model.add(LSTM(\n",
    "    units=number_units,\n",
    "    return_sequences=True,\n",
    "    input_shape=(X_train.shape[1], 1))\n",
    "    )\n",
    "model.add(Dropout(dropout_fraction))\n",
    "\n",
    "# Layer 2\n",
    "model.add(LSTM(units=number_units, activation='tanh', return_sequences=True))\n",
    "model.add(Dropout(dropout_fraction))\n",
    "\n",
    "# Layer 3\n",
    "model.add(LSTM(units=number_units))\n",
    "model.add(Dropout(dropout_fraction))\n",
    "\n",
    "# Output layer\n",
    "model.add(Dense(1))"
   ]
  },
  {
   "cell_type": "code",
   "execution_count": 664,
   "metadata": {},
   "outputs": [],
   "source": [
    "# Compile the model\n",
    "model.compile(optimizer=\"adam\", \n",
    "              loss=\"mean_squared_error\") "
   ]
  },
  {
   "cell_type": "code",
   "execution_count": 665,
   "metadata": {},
   "outputs": [
    {
     "name": "stdout",
     "output_type": "stream",
     "text": [
      "Model: \"sequential_28\"\n",
      "_________________________________________________________________\n",
      "Layer (type)                 Output Shape              Param #   \n",
      "=================================================================\n",
      "lstm_84 (LSTM)               (None, 1, 30)             3840      \n",
      "_________________________________________________________________\n",
      "dropout_84 (Dropout)         (None, 1, 30)             0         \n",
      "_________________________________________________________________\n",
      "lstm_85 (LSTM)               (None, 1, 30)             7320      \n",
      "_________________________________________________________________\n",
      "dropout_85 (Dropout)         (None, 1, 30)             0         \n",
      "_________________________________________________________________\n",
      "lstm_86 (LSTM)               (None, 30)                7320      \n",
      "_________________________________________________________________\n",
      "dropout_86 (Dropout)         (None, 30)                0         \n",
      "_________________________________________________________________\n",
      "dense_28 (Dense)             (None, 1)                 31        \n",
      "=================================================================\n",
      "Total params: 18,511\n",
      "Trainable params: 18,511\n",
      "Non-trainable params: 0\n",
      "_________________________________________________________________\n"
     ]
    }
   ],
   "source": [
    "# Summarize the model\n",
    "model.summary() "
   ]
  },
  {
   "cell_type": "code",
   "execution_count": 666,
   "metadata": {},
   "outputs": [
    {
     "name": "stdout",
     "output_type": "stream",
     "text": [
      "Train on 377 samples\n",
      "Epoch 1/20\n",
      "377/377 [==============================] - 3s 9ms/sample - loss: 0.1557\n",
      "Epoch 2/20\n",
      "377/377 [==============================] - 0s 176us/sample - loss: 0.1327\n",
      "Epoch 3/20\n",
      "377/377 [==============================] - 0s 167us/sample - loss: 0.1086\n",
      "Epoch 4/20\n",
      "377/377 [==============================] - 0s 176us/sample - loss: 0.0843\n",
      "Epoch 5/20\n",
      "377/377 [==============================] - 0s 175us/sample - loss: 0.0633\n",
      "Epoch 6/20\n",
      "377/377 [==============================] - 0s 175us/sample - loss: 0.0487\n",
      "Epoch 7/20\n",
      "377/377 [==============================] - 0s 173us/sample - loss: 0.0442\n",
      "Epoch 8/20\n",
      "377/377 [==============================] - 0s 197us/sample - loss: 0.0403\n",
      "Epoch 9/20\n",
      "377/377 [==============================] - 0s 155us/sample - loss: 0.0417\n",
      "Epoch 10/20\n",
      "377/377 [==============================] - 0s 164us/sample - loss: 0.0388\n",
      "Epoch 11/20\n",
      "377/377 [==============================] - 0s 168us/sample - loss: 0.0403\n",
      "Epoch 12/20\n",
      "377/377 [==============================] - 0s 151us/sample - loss: 0.0390\n",
      "Epoch 13/20\n",
      "377/377 [==============================] - 0s 154us/sample - loss: 0.0385\n",
      "Epoch 14/20\n",
      "377/377 [==============================] - 0s 147us/sample - loss: 0.0387\n",
      "Epoch 15/20\n",
      "377/377 [==============================] - 0s 149us/sample - loss: 0.0395\n",
      "Epoch 16/20\n",
      "377/377 [==============================] - 0s 143us/sample - loss: 0.0383\n",
      "Epoch 17/20\n",
      "377/377 [==============================] - 0s 144us/sample - loss: 0.0380\n",
      "Epoch 18/20\n",
      "377/377 [==============================] - 0s 145us/sample - loss: 0.0377\n",
      "Epoch 19/20\n",
      "377/377 [==============================] - 0s 146us/sample - loss: 0.0382\n",
      "Epoch 20/20\n",
      "377/377 [==============================] - 0s 146us/sample - loss: 0.0381\n"
     ]
    }
   ],
   "source": [
    "# Train the model\n",
    "# Use at least 10 epochs\n",
    "# Do not shuffle the data\n",
    "# Experiement with the batch size, but a smaller batch size is recommended\n",
    "training_history = model.fit(\n",
    "    X_train, \n",
    "    y_train, \n",
    "    #validation_data=(X_val, y_val),\n",
    "    epochs=20, \n",
    "    shuffle=False, \n",
    "    batch_size=30, \n",
    "    verbose=1\n",
    "  ) "
   ]
  },
  {
   "cell_type": "code",
   "execution_count": 667,
   "metadata": {},
   "outputs": [
    {
     "name": "stdout",
     "output_type": "stream",
     "text": [
      "Train on 377 samples\n",
      "Epoch 1/50\n",
      "377/377 [==============================] - 0s 441us/sample - loss: 0.0402\n",
      "Epoch 2/50\n",
      "377/377 [==============================] - 0s 414us/sample - loss: 0.0451\n",
      "Epoch 3/50\n",
      "377/377 [==============================] - 0s 417us/sample - loss: 0.0420\n",
      "Epoch 4/50\n",
      "377/377 [==============================] - 0s 400us/sample - loss: 0.0430\n",
      "Epoch 5/50\n",
      "377/377 [==============================] - 0s 412us/sample - loss: 0.0435\n",
      "Epoch 6/50\n",
      "377/377 [==============================] - 0s 402us/sample - loss: 0.0426\n",
      "Epoch 7/50\n",
      "377/377 [==============================] - 0s 403us/sample - loss: 0.0429\n",
      "Epoch 8/50\n",
      "377/377 [==============================] - 0s 403us/sample - loss: 0.0426\n",
      "Epoch 9/50\n",
      "377/377 [==============================] - 0s 412us/sample - loss: 0.0431\n",
      "Epoch 10/50\n",
      "377/377 [==============================] - 0s 397us/sample - loss: 0.0396\n",
      "Epoch 11/50\n",
      "377/377 [==============================] - 0s 392us/sample - loss: 0.0400\n",
      "Epoch 12/50\n",
      "377/377 [==============================] - 0s 394us/sample - loss: 0.0396\n",
      "Epoch 13/50\n",
      "377/377 [==============================] - 0s 406us/sample - loss: 0.0395\n",
      "Epoch 14/50\n",
      "377/377 [==============================] - 0s 397us/sample - loss: 0.0415\n",
      "Epoch 15/50\n",
      "377/377 [==============================] - 0s 411us/sample - loss: 0.0390\n",
      "Epoch 16/50\n",
      "377/377 [==============================] - 0s 404us/sample - loss: 0.0390\n",
      "Epoch 17/50\n",
      "377/377 [==============================] - 0s 396us/sample - loss: 0.0400\n",
      "Epoch 18/50\n",
      "377/377 [==============================] - 0s 405us/sample - loss: 0.0407\n",
      "Epoch 19/50\n",
      "377/377 [==============================] - 0s 405us/sample - loss: 0.0404\n",
      "Epoch 20/50\n",
      "377/377 [==============================] - 0s 419us/sample - loss: 0.0386\n",
      "Epoch 21/50\n",
      "377/377 [==============================] - 0s 402us/sample - loss: 0.0390\n",
      "Epoch 22/50\n",
      "377/377 [==============================] - 0s 426us/sample - loss: 0.0398\n",
      "Epoch 23/50\n",
      "377/377 [==============================] - 0s 451us/sample - loss: 0.0381\n",
      "Epoch 24/50\n",
      "377/377 [==============================] - 0s 388us/sample - loss: 0.0391\n",
      "Epoch 25/50\n",
      "377/377 [==============================] - 0s 386us/sample - loss: 0.0394\n",
      "Epoch 26/50\n",
      "377/377 [==============================] - 0s 390us/sample - loss: 0.0389\n",
      "Epoch 27/50\n",
      "377/377 [==============================] - 0s 396us/sample - loss: 0.0383\n",
      "Epoch 28/50\n",
      "377/377 [==============================] - 0s 445us/sample - loss: 0.0380\n",
      "Epoch 29/50\n",
      "377/377 [==============================] - 0s 398us/sample - loss: 0.0388\n",
      "Epoch 30/50\n",
      "377/377 [==============================] - 0s 398us/sample - loss: 0.0388\n",
      "Epoch 31/50\n",
      "377/377 [==============================] - 0s 401us/sample - loss: 0.0388\n",
      "Epoch 32/50\n",
      "377/377 [==============================] - 0s 392us/sample - loss: 0.0374\n",
      "Epoch 33/50\n",
      "377/377 [==============================] - 0s 402us/sample - loss: 0.0376\n",
      "Epoch 34/50\n",
      "377/377 [==============================] - 0s 438us/sample - loss: 0.0386\n",
      "Epoch 35/50\n",
      "377/377 [==============================] - 0s 407us/sample - loss: 0.0378\n",
      "Epoch 36/50\n",
      "377/377 [==============================] - 0s 392us/sample - loss: 0.0392\n",
      "Epoch 37/50\n",
      "377/377 [==============================] - 0s 377us/sample - loss: 0.0369\n",
      "Epoch 38/50\n",
      "377/377 [==============================] - 0s 382us/sample - loss: 0.0365\n",
      "Epoch 39/50\n",
      "377/377 [==============================] - 0s 397us/sample - loss: 0.0379\n",
      "Epoch 40/50\n",
      "377/377 [==============================] - 0s 389us/sample - loss: 0.0373\n",
      "Epoch 41/50\n",
      "377/377 [==============================] - 0s 398us/sample - loss: 0.0377\n",
      "Epoch 42/50\n",
      "377/377 [==============================] - 0s 403us/sample - loss: 0.0371\n",
      "Epoch 43/50\n",
      "377/377 [==============================] - 0s 385us/sample - loss: 0.0368\n",
      "Epoch 44/50\n",
      "377/377 [==============================] - 0s 387us/sample - loss: 0.0372\n",
      "Epoch 45/50\n",
      "377/377 [==============================] - 0s 408us/sample - loss: 0.0381\n",
      "Epoch 46/50\n",
      "377/377 [==============================] - 0s 395us/sample - loss: 0.0377\n",
      "Epoch 47/50\n",
      "377/377 [==============================] - 0s 507us/sample - loss: 0.0374\n",
      "Epoch 48/50\n",
      "377/377 [==============================] - 0s 404us/sample - loss: 0.0377\n",
      "Epoch 49/50\n",
      "377/377 [==============================] - 0s 431us/sample - loss: 0.0373\n",
      "Epoch 50/50\n",
      "377/377 [==============================] - 0s 410us/sample - loss: 0.0369\n"
     ]
    }
   ],
   "source": [
    "training_history = model.fit(\n",
    "    X_train, \n",
    "    y_train, \n",
    "#    validation_data=(X_val, y_val),\n",
    "    epochs=50, \n",
    "    shuffle=False, \n",
    "    batch_size=10, \n",
    "    verbose=1) "
   ]
  },
  {
   "cell_type": "code",
   "execution_count": 668,
   "metadata": {},
   "outputs": [
    {
     "name": "stdout",
     "output_type": "stream",
     "text": [
      "\n",
      " Evaluate on test data for rolling 1-day bitcoin closing prices:\n",
      "\n",
      " Based on FNG Index, without evaluation, test loss on LSTM RNN is 0.0904.\n"
     ]
    }
   ],
   "source": [
    "# Evaluate the model on the test data using `evaluate`\n",
    "print(f'\\n Evaluate on test data for rolling {window_size}-day bitcoin closing prices:')\n",
    "results = model.evaluate(X_test, y_test, verbose=0)\n",
    "print(f'\\n Based on FNG Index, without evaluation, test loss on LSTM RNN is {results:,.4f}.')"
   ]
  },
  {
   "cell_type": "code",
   "execution_count": 669,
   "metadata": {},
   "outputs": [],
   "source": [
    "# Make some predictions\n",
    "# Make predictions using the testing data X_test\n",
    "predicted = model.predict(X_test)"
   ]
  },
  {
   "cell_type": "code",
   "execution_count": 670,
   "metadata": {},
   "outputs": [],
   "source": [
    "# Recover the original prices instead of the scaled version\n",
    "predicted_prices = scaler.inverse_transform(predicted)\n",
    "real_prices = scaler.inverse_transform(y_test.reshape(-1, 1))"
   ]
  },
  {
   "cell_type": "code",
   "execution_count": 671,
   "metadata": {},
   "outputs": [
    {
     "data": {
      "text/html": [
       "<div>\n",
       "<style scoped>\n",
       "    .dataframe tbody tr th:only-of-type {\n",
       "        vertical-align: middle;\n",
       "    }\n",
       "\n",
       "    .dataframe tbody tr th {\n",
       "        vertical-align: top;\n",
       "    }\n",
       "\n",
       "    .dataframe thead th {\n",
       "        text-align: right;\n",
       "    }\n",
       "</style>\n",
       "<table border=\"1\" class=\"dataframe\">\n",
       "  <thead>\n",
       "    <tr style=\"text-align: right;\">\n",
       "      <th></th>\n",
       "      <th>Real</th>\n",
       "      <th>Predicted</th>\n",
       "    </tr>\n",
       "  </thead>\n",
       "  <tbody>\n",
       "    <tr>\n",
       "      <th>0</th>\n",
       "      <td>3670.919922</td>\n",
       "      <td>7085.916992</td>\n",
       "    </tr>\n",
       "    <tr>\n",
       "      <th>1</th>\n",
       "      <td>3670.919922</td>\n",
       "      <td>6946.062988</td>\n",
       "    </tr>\n",
       "    <tr>\n",
       "      <th>2</th>\n",
       "      <td>3912.570068</td>\n",
       "      <td>6743.067871</td>\n",
       "    </tr>\n",
       "    <tr>\n",
       "      <th>3</th>\n",
       "      <td>3924.239990</td>\n",
       "      <td>8687.127930</td>\n",
       "    </tr>\n",
       "    <tr>\n",
       "      <th>4</th>\n",
       "      <td>3974.050049</td>\n",
       "      <td>8867.420898</td>\n",
       "    </tr>\n",
       "  </tbody>\n",
       "</table>\n",
       "</div>"
      ],
      "text/plain": [
       "          Real    Predicted\n",
       "0  3670.919922  7085.916992\n",
       "1  3670.919922  6946.062988\n",
       "2  3912.570068  6743.067871\n",
       "3  3924.239990  8687.127930\n",
       "4  3974.050049  8867.420898"
      ]
     },
     "execution_count": 671,
     "metadata": {},
     "output_type": "execute_result"
    }
   ],
   "source": [
    "# Create a DataFrame of Real and Predicted values\n",
    "btc_fng = pd.DataFrame({\n",
    "    \"Real\": real_prices.ravel(),\n",
    "    \"Predicted\": predicted_prices.ravel()\n",
    "})\n",
    "btc_fng.head()"
   ]
  },
  {
   "cell_type": "code",
   "execution_count": 672,
   "metadata": {},
   "outputs": [
    {
     "data": {
      "text/plain": [
       "<Figure size 432x288 with 0 Axes>"
      ]
     },
     "metadata": {},
     "output_type": "display_data"
    },
    {
     "data": {
      "image/png": "[encoded data removed]",
      "text/plain": [
       "<Figure size 432x288 with 1 Axes>"
      ]
     },
     "metadata": {
      "needs_background": "light"
     },
     "output_type": "display_data"
    }
   ],
   "source": [
    "# Plot the real vs predicted values as a line chart\n",
    "import matplotlib.pyplot as plt\n",
    "import matplotlib\n",
    "import matplotlib.pyplot as plt\n",
    "plt.figure()\n",
    "btc_fng.plot(title=f\"{window_size}-Day Rolling Real vs. FNG Originally Predicted Bitcoin Prices\")\n",
    "plt.savefig('../Images/btc_fng_original_1day.png')\n",
    "plt.show()"
   ]
  },
  {
   "cell_type": "code",
   "execution_count": 675,
   "metadata": {},
   "outputs": [
    {
     "data": {
      "text/plain": [
       "<Figure size 432x288 with 0 Axes>"
      ]
     },
     "metadata": {},
     "output_type": "display_data"
    },
    {
     "data": {
      "image/png": "[encoded data removed]",
      "text/plain": [
       "<Figure size 432x288 with 1 Axes>"
      ]
     },
     "metadata": {
      "needs_background": "light"
     },
     "output_type": "display_data"
    }
   ],
   "source": [
    "# Plotting loss\n",
    "epochs = 50\n",
    "loss_df = pd.DataFrame(\n",
    "    {\n",
    "        \"Epoch\": range(1, epochs + 1),\n",
    "        \"Train\": training_history.history[\"loss\"],\n",
    "#        \"Val\": training_history.history[\"val_loss\"],\n",
    "    }\n",
    ")\n",
    "loss_df.set_index(\"Epoch\", inplace=True)\n",
    "\n",
    "plt.figure()\n",
    "loss_df.plot(title=f\"Loss on LSTM {window_size}-Day Model for FNG Originally Predicted Bitcoin Closing Prices\")\n",
    "plt.savefig('../Images/btc_fng_loss_original_1day.png')\n",
    "plt.show()"
   ]
  },
  {
   "cell_type": "code",
   "execution_count": null,
   "metadata": {},
   "outputs": [],
   "source": []
  }
 ],
 "metadata": {
  "file_extension": ".py",
  "kernelspec": {
   "display_name": "mlenv",
   "language": "python",
   "name": "mlenv"
  },
  "language_info": {
   "codemirror_mode": {
    "name": "ipython",
    "version": 3
   },
   "file_extension": ".py",
   "mimetype": "text/x-python",
   "name": "python",
   "nbconvert_exporter": "python",
   "pygments_lexer": "ipython3",
   "version": "3.7.6"
  },
  "mimetype": "text/x-python",
  "name": "python",
  "npconvert_exporter": "python",
  "pygments_lexer": "ipython3",
  "version": 3
 },
 "nbformat": 4,
 "nbformat_minor": 4
}
